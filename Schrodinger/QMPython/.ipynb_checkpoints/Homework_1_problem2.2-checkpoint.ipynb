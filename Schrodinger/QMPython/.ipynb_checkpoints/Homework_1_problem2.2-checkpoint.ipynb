{
 "cells": [
  {
   "cell_type": "markdown",
   "metadata": {},
   "source": [
    "# Homework 1 Problem 2.2\n",
    "We import sympy and pyplot. For this problem we will also need $|x|$, so we need to get the complex number absolute value. Looking up in the sympy documentation, this is in sympy.functions.Abs(), so we need to import that, or else type functions.Abs() each time. We do the same for the complex conjugate, which is just conjugate().\n",
    "We also want to look up what the complex number $i$ is for sympy, but that is simply I."
   ]
  },
  {
   "cell_type": "code",
   "execution_count": 1,
   "metadata": {
    "collapsed": true
   },
   "outputs": [],
   "source": [
    "from sympy import *\n",
    "from sympy.functions import Abs, conjugate\n",
    "import matplotlib.pyplot as plt"
   ]
  },
  {
   "cell_type": "markdown",
   "metadata": {},
   "source": [
    "We want to define $\\Psi$ as a function so we can use it in multiple parts of the problem. As usual, we also define variables we need."
   ]
  },
  {
   "cell_type": "code",
   "execution_count": 2,
   "metadata": {},
   "outputs": [
    {
     "data": {
      "text/plain": [
       "A**2*exp(-2*lam*Abs(x))"
      ]
     },
     "execution_count": 2,
     "metadata": {},
     "output_type": "execute_result"
    }
   ],
   "source": [
    "A, lam, x, om, t = symbols(\"A lam x om t\",real=True)\n",
    "assumptions.assume.global_assumptions.add(Q.positive(lam))\n",
    "psi = Function('psi')(x)\n",
    "psi = A*exp(-lam*Abs(x) - I*om*t)\n",
    "simplify(conjugate(psi)*psi)"
   ]
  },
  {
   "cell_type": "markdown",
   "metadata": {},
   "source": [
    "We can now get the normalization factor:"
   ]
  },
  {
   "cell_type": "code",
   "execution_count": 3,
   "metadata": {},
   "outputs": [
    {
     "data": {
      "text/plain": [
       "Piecewise((A**2/lam, Abs(periodic_argument(lam, oo)) < pi/2), (Integral(A**2*exp(-lam*Abs(x) - I*om*t)*exp(-lam*Abs(x) + I*om*t), (x, -oo, oo)), True))"
      ]
     },
     "execution_count": 3,
     "metadata": {},
     "output_type": "execute_result"
    }
   ],
   "source": [
    "integrate(conjugate(psi)*psi,(x,-oo,oo))"
   ]
  },
  {
   "cell_type": "markdown",
   "metadata": {},
   "source": [
    "So the equation to normalize the wave function is:\n",
    "$$ \\frac{A^2}{\\lambda}=1 \\Rightarrow A = \\sqrt{\\lambda}$$, since we can freely choose the positive root. Note that it does not make a difference if you choose any other root, including complex ones. Since you always end up squaring the wave function, any complex phase will drop out."
   ]
  },
  {
   "cell_type": "code",
   "execution_count": 4,
   "metadata": {
    "collapsed": true
   },
   "outputs": [],
   "source": [
    "psi = sqrt(lam)*exp(-lam*Abs(x) - I*om*t)"
   ]
  },
  {
   "cell_type": "markdown",
   "metadata": {},
   "source": [
    "We can now do the rest of the homework. \n",
    "$$\\left< x \\right> = \\int_{-\\infty}^\\infty \\Psi^* x \\Psi dx$$\n",
    "$$\\left< x^2 \\right> = \\int_{-\\infty}^\\infty \\Psi^* x^2 \\Psi dx$$\n"
   ]
  },
  {
   "cell_type": "code",
   "execution_count": 5,
   "metadata": {},
   "outputs": [
    {
     "name": "stdout",
     "output_type": "stream",
     "text": [
      "Piecewise((0, Abs(periodic_argument(lam, oo)) < pi/2), (Integral(sqrt(lam)*x*exp(-lam*Abs(x) - I*om*t)*exp(-lam*Abs(x) + I*om*t)*conjugate(sqrt(lam)), (x, -oo, oo)), True))\n",
      "Piecewise((conjugate(sqrt(lam))/(2*lam**(5/2)), Abs(periodic_argument(lam, oo)) < pi/2), (Integral(sqrt(lam)*x**2*exp(-lam*Abs(x) - I*om*t)*exp(-lam*Abs(x) + I*om*t)*conjugate(sqrt(lam)), (x, -oo, oo)), True))\n"
     ]
    }
   ],
   "source": [
    "print integrate(conjugate(psi)*x*psi,(x,-oo,oo))\n",
    "print integrate(conjugate(psi)*x*x*psi,(x,-oo,oo))"
   ]
  },
  {
   "cell_type": "markdown",
   "metadata": {},
   "source": [
    "So the first integral is zero, which was to be expected for an odd function integrated over even bounds. The second integral gives a more simplified answer if we first compute $\\Psi^* \\Psi$, and then integrate, though you can easily simplify the expression found above."
   ]
  },
  {
   "cell_type": "code",
   "execution_count": 6,
   "metadata": {},
   "outputs": [
    {
     "data": {
      "text/plain": [
       "Piecewise((1/(2*lam**2), Abs(periodic_argument(lam, oo)) < pi/2), (Integral(lam*x**2*exp(-2*lam*Abs(x)), (x, -oo, oo)), True))"
      ]
     },
     "execution_count": 6,
     "metadata": {},
     "output_type": "execute_result"
    }
   ],
   "source": [
    "integrate(x*x*lam*exp(-2*lam*Abs(x)),(x,-oo,oo))"
   ]
  },
  {
   "cell_type": "markdown",
   "metadata": {},
   "source": [
    "The results are $\\left< x \\right> = 0$ and $\\left< x^2 \\right> = \\frac{1}{2\\lambda^2}$, and so $\\sigma^2 =  \\frac{1}{2\\lambda^2} - 0 \\Rightarrow \\sigma = \\frac{1}{\\sqrt{2}\\lambda}$\n",
    "\n",
    "Now sketch the function. Choose $t=0$, invert our previous answer to get $\\lambda = \\frac{1}{\\sqrt{2}\\sigma}$"
   ]
  },
  {
   "cell_type": "code",
   "execution_count": 7,
   "metadata": {
    "collapsed": true
   },
   "outputs": [],
   "source": [
    "import numpy as np\n",
    "def psi_f(x,sig):\n",
    "    return(  np.sqrt(1/(np.sqrt(2)*sig))*np.exp(-np.abs(x)/(np.sqrt(2)*sig)))"
   ]
  },
  {
   "cell_type": "markdown",
   "metadata": {},
   "source": [
    "We can now evaluate the function and make our plot. We can plot a number of different sigmas on the same graph so you get a sense of how changing sigma changes the curve."
   ]
  },
  {
   "cell_type": "code",
   "execution_count": 8,
   "metadata": {
    "collapsed": true
   },
   "outputs": [],
   "source": [
    "x_r = np.arange(-5,5,0.01)  # Set the range in x, with a small step size."
   ]
  },
  {
   "cell_type": "code",
   "execution_count": 9,
   "metadata": {
    "collapsed": true
   },
   "outputs": [],
   "source": [
    "plt.figure(figsize=(10,5))\n",
    "x_ave=0\n",
    "for s in [0.5,1,2]:\n",
    "    p=plt.plot(x_r,psi_f(x_r,s),label=\"sigma={}\".format(s))\n",
    "    x1 = x_ave-s # Draw lines\n",
    "    x2 = x_ave-s\n",
    "    plt.plot([x1, x2], [-0.05, 0.1],color=p[0].get_color(), linestyle='-', linewidth=3)\n",
    "    x1 = x_ave+s\n",
    "    x2 = x_ave+s\n",
    "    plt.plot([x1, x2], [-0.05, 0.1],color=p[0].get_color(), linestyle='-', linewidth=3)\n",
    "    plt.legend() \n",
    "    plt.title(\"Graph of the wavefunction for t=0\")\n",
    "    plt.xlabel(\"x\")\n",
    "    plt.ylabel(\"y\")\n",
    "    plt.grid(True,which='both')"
   ]
  },
  {
   "cell_type": "code",
   "execution_count": 10,
   "metadata": {
    "collapsed": true
   },
   "outputs": [],
   "source": [
    "plt.savefig('Homework_1p2_2.pdf',format='pdf')  # Save the figure to a file, so you can print it separately."
   ]
  },
  {
   "cell_type": "code",
   "execution_count": 11,
   "metadata": {},
   "outputs": [
    {
     "data": {
      "image/png": "[encoded data removed]",
      "text/plain": [
       "<matplotlib.figure.Figure at 0x1065b5650>"
      ]
     },
     "metadata": {},
     "output_type": "display_data"
    }
   ],
   "source": [
    "plt.show()"
   ]
  }
 ],
 "metadata": {
  "kernelspec": {
   "display_name": "Python 3",
   "language": "python",
   "name": "python3"
  },
  "language_info": {
   "codemirror_mode": {
    "name": "ipython",
    "version": 3
   },
   "file_extension": ".py",
   "mimetype": "text/x-python",
   "name": "python",
   "nbconvert_exporter": "python",
   "pygments_lexer": "ipython3",
   "version": "3.7.9"
  }
 },
 "nbformat": 4,
 "nbformat_minor": 2
}
