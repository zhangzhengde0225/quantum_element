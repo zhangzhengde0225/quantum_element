{
 "cells": [
  {
   "cell_type": "markdown",
   "metadata": {},
   "source": [
    "# Homework 1 Problem 1.2\n",
    "\n",
    "There are of course \"many ways to skin a cat\", as the unpleasant saying goes, but here are two free alternatives to using Mathematica on your own system to help you with some of the tricky bits in solving your homework integrals. \n",
    "\n",
    "We are trying to get an answer for the integral:\n",
    "$$I =\\int_{-\\infty}^{\\infty} A e^{-\\lambda\\left(x-a\\right)^2}dx$$\n",
    "\n",
    "One way to get the answer is to ask Wolfram Alpha: `Integrate[A E^(-l (-a + x)^2), {x, -Infinity, Plus[Infinity]}]` or `integrate from -infinity to +infinity A*exp(-l*(x-a)**2)`, which indeed provides the answer. \n",
    "\n",
    "The other way is to use sympy, which has documentation here: [Sympy](http://docs.sympy.org/latest/index.html)\n",
    "\n",
    "First, import sympy, and since we want to plot the function, also import matplotlib.pyplot.\n"
   ]
  },
  {
   "cell_type": "code",
   "execution_count": 1,
   "metadata": {
    "collapsed": true
   },
   "outputs": [],
   "source": [
    "from sympy import *\n",
    "import matplotlib.pyplot as plt"
   ]
  },
  {
   "cell_type": "markdown",
   "metadata": {},
   "source": [
    "Next, we want to tell sympy what symbols we want to use, and that we have a function `rho(x)` which we will integrate. An important part is to tell sympy the assumption that all the variables are real numbers, and that lambda (`lam`) is postitive. If we don't do this step, the output will be hard to read because of all the conditions on the integral."
   ]
  },
  {
   "cell_type": "code",
   "execution_count": 2,
   "metadata": {
    "collapsed": true
   },
   "outputs": [],
   "source": [
    "A, lam, a, x = symbols(\"A lam a x\",real=True)\n",
    "assumptions.assume.global_assumptions.add(Q.positive(lam))\n",
    "rho = Function('rho')(x)\n",
    "rho = A*exp(-lam*(x-a)**2)"
   ]
  },
  {
   "cell_type": "markdown",
   "metadata": {},
   "source": [
    "We now integrate the function from minus to plus infinity:"
   ]
  },
  {
   "cell_type": "code",
   "execution_count": 3,
   "metadata": {},
   "outputs": [
    {
     "data": {
      "text/plain": [
       "Piecewise((sqrt(pi)*A/sqrt(lam), Abs(periodic_argument(lam, oo)) <= pi/2), (Integral(A*exp(-lam*(-a + x)**2), (x, -oo, oo)), True))"
      ]
     },
     "execution_count": 3,
     "metadata": {},
     "output_type": "execute_result"
    }
   ],
   "source": [
    "integrate(rho,(x,-oo,oo))"
   ]
  },
  {
   "cell_type": "markdown",
   "metadata": {},
   "source": [
    "So the answer we got for the integral is \n",
    "$$ \\frac{\\sqrt{\\pi} A}{\\sqrt{\\lambda}}$$\n",
    "We want to equate this to 1, and then solve for $A$, which gives us:\n",
    "$$ A = \\sqrt{\\frac{\\lambda}{\\pi}}$$\n",
    "We redefine rho so that A is eliminated. Note that this is easier than requesting sympy to substitute for A all the time."
   ]
  },
  {
   "cell_type": "code",
   "execution_count": 4,
   "metadata": {
    "collapsed": true
   },
   "outputs": [],
   "source": [
    "rho = sqrt(lam/pi)*exp(-lam*(x-a)**2)"
   ]
  },
  {
   "cell_type": "markdown",
   "metadata": {},
   "source": [
    "We can now do the rest of the homework. Integrate x*rho and x*x*rho:\n",
    "$$\\left< x \\right> = \\int_{-\\infty}^\\infty x \\sqrt{\\frac{\\lambda}{\\pi}}e^{-\\lambda(x-a)^2} dx$$\n",
    "$$\\left< x^2 \\right> = \\int_{-\\infty}^\\infty x^2 \\sqrt{\\frac{\\lambda}{\\pi}}e^{-\\lambda(x-a)^2} dx$$"
   ]
  },
  {
   "cell_type": "code",
   "execution_count": 5,
   "metadata": {},
   "outputs": [
    {
     "name": "stdout",
     "output_type": "stream",
     "text": [
      "Piecewise((a, (Abs(periodic_argument(lam, oo)) <= pi/2) & (Abs(periodic_argument(lam, oo)) < pi/2)), (Integral(sqrt(lam)*x*exp(-lam*(-a + x)**2)/sqrt(pi), (x, -oo, oo)), True))\n",
      "Piecewise((a**2 + 1/(2*lam), (Abs(periodic_argument(lam, oo)) <= pi/2) & (Abs(periodic_argument(lam, oo)) < pi/2)), (Integral(sqrt(lam)*x**2*exp(-lam*(-a + x)**2)/sqrt(pi), (x, -oo, oo)), True))\n"
     ]
    }
   ],
   "source": [
    "print integrate(x*rho,(x,-oo,oo))\n",
    "print integrate(x*x*rho,(x,-oo,oo))"
   ]
  },
  {
   "cell_type": "markdown",
   "metadata": {},
   "source": [
    "The results are $\\left< x \\right> = a$ and $\\left< x^2 \\right> =a^2 + 1/({2\\lambda})$ so we conclude that:\n",
    "$$\\sigma^2 =  \\left< x^2\\right> - \\left< x \\right>^2 = 1/({2\\lambda}) \\Rightarrow\\\\\n",
    "\\sigma = \\sqrt{\\frac{1}{2\\lambda}}  \\Rightarrow \\\\\n",
    "\\lambda = \\frac{1}{2\\sigma^2}\n",
    "$$\n",
    "We can thus write the normalized gaussian function in terms of $\\sigma$ as:\n",
    "$$\n",
    "\\rho(x) = \\sqrt{\\frac{1}{2\\pi\\sigma^2}} e^{-(x-a)^2/{2\\sigma^2}}\n",
    "$$\n",
    "We now write `rho` as a function `rho_f`, which allows us to evaluate it at many points and make a graph. Choose `a=4` and `sigma=1`. We want to evaluate the function *numerically* which means we don not want the `sqrt()` and `exp()` functions from sympy. This is a disadvantage of importing sympy with `from sympy import *`. We can explicitly ask for the numpy versions of these functions to get numeric results."
   ]
  },
  {
   "cell_type": "code",
   "execution_count": 6,
   "metadata": {
    "collapsed": true
   },
   "outputs": [],
   "source": [
    "import numpy as np\n",
    "def rho_f(x,a,sig):\n",
    "    return(  np.sqrt(1/(2*np.pi*sig**2)*np.exp(-(x-a)**2/2/sig**2)))"
   ]
  },
  {
   "cell_type": "markdown",
   "metadata": {},
   "source": [
    "We can now evaluate the function and make our plot. We can plot a number of different sigmas on the same graph so you get a sense of how changing sigma changes the curve."
   ]
  },
  {
   "cell_type": "code",
   "execution_count": 7,
   "metadata": {
    "collapsed": true
   },
   "outputs": [],
   "source": [
    "x_r = np.arange(-2,10,0.01)  # Set the range in x, with a small step size."
   ]
  },
  {
   "cell_type": "code",
   "execution_count": 19,
   "metadata": {},
   "outputs": [],
   "source": [
    "plt.figure(figsize=(10,5))\n",
    "x_ave = 4\n",
    "for s in [0.5,1,2]:\n",
    "    p = plt.plot(x_r,rho_f(x_r,x_ave,s),label=\"sigma={}\".format(s))\n",
    "    x1 = x_ave-s # Draw lines\n",
    "    x2 = x_ave-s\n",
    "    plt.plot([x1, x2], [-0.05, 0.1],color=p[0].get_color(), linestyle='-', linewidth=3)\n",
    "    x1 = x_ave+s\n",
    "    x2 = x_ave+s\n",
    "    plt.plot([x1, x2], [-0.05, 0.1],color=p[0].get_color(), linestyle='-', linewidth=3)\n",
    "    plt.legend() \n",
    "    plt.title(\"Normalized Gaussian with a=4\")\n",
    "    plt.xlabel(\"x\")\n",
    "    plt.ylabel(\"y\")\n",
    "    plt.grid(True,which='both')"
   ]
  },
  {
   "cell_type": "code",
   "execution_count": 20,
   "metadata": {
    "collapsed": true
   },
   "outputs": [],
   "source": [
    "plt.savefig('Homework_1p1_2.pdf',format='pdf')  # Save the figure to a file, so you can print it separately."
   ]
  },
  {
   "cell_type": "code",
   "execution_count": 21,
   "metadata": {},
   "outputs": [
    {
     "data": {
      "image/png": "[encoded data removed]",
      "text/plain": [
       "<matplotlib.figure.Figure at 0x104aa9f10>"
      ]
     },
     "metadata": {},
     "output_type": "display_data"
    }
   ],
   "source": [
    "plt.show() # Show the figure right here."
   ]
  },
  {
   "cell_type": "code",
   "execution_count": null,
   "metadata": {
    "collapsed": true
   },
   "outputs": [],
   "source": []
  }
 ],
 "metadata": {
  "kernelspec": {
   "display_name": "Python 3",
   "language": "python",
   "name": "python3"
  },
  "language_info": {
   "codemirror_mode": {
    "name": "ipython",
    "version": 3
   },
   "file_extension": ".py",
   "mimetype": "text/x-python",
   "name": "python",
   "nbconvert_exporter": "python",
   "pygments_lexer": "ipython3",
   "version": "3.7.9"
  }
 },
 "nbformat": 4,
 "nbformat_minor": 2
}
